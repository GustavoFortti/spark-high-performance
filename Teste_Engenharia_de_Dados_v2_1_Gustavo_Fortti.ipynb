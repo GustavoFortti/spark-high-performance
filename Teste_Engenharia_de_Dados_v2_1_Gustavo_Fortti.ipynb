{
  "nbformat": 4,
  "nbformat_minor": 0,
  "metadata": {
    "colab": {
      "name": "Teste Engenharia de Dados v2_1 - Gustavo Fortti.ipynb",
      "provenance": [],
      "collapsed_sections": [],
      "toc_visible": true,
      "include_colab_link": true
    },
    "kernelspec": {
      "name": "python3",
      "display_name": "Python 3"
    },
    "language_info": {
      "name": "python"
    }
  },
  "cells": [
    {
      "cell_type": "markdown",
      "metadata": {
        "id": "view-in-github",
        "colab_type": "text"
      },
      "source": [
        "<a href=\"https://colab.research.google.com/github/GustavoFortti/spark-high-performance/blob/master/Teste_Engenharia_de_Dados_v2_1_Gustavo_Fortti.ipynb\" target=\"_parent\"><img src=\"https://colab.research.google.com/assets/colab-badge.svg\" alt=\"Open In Colab\"/></a>"
      ]
    },
    {
      "cell_type": "markdown",
      "metadata": {
        "id": "LVSy2BqsaSkj"
      },
      "source": [
        "# Setup Geral\n",
        "\n",
        "Se estiver executando este exercício no Google Colab, execute as próximas duas células. \n",
        "\n",
        "Caso esteja executando localmente, não é necessário executar mas certifique-se de que o **pyspark** está instalado e configurado em sua máquina."
      ]
    },
    {
      "cell_type": "code",
      "metadata": {
        "id": "NHPXuknHZ5Az",
        "colab": {
          "base_uri": "https://localhost:8080/"
        },
        "outputId": "7ed7dd08-78d9-4d85-c9c3-61c8028c474c"
      },
      "source": [
        "%%bash\n",
        "\n",
        "# Instal Java\n",
        "apt-get update && apt-get install openjdk-8-jdk-headless -qq > /dev/null\n",
        "\n",
        "# Install PySpark\n",
        "pip install -q pyspark"
      ],
      "execution_count": 1,
      "outputs": [
        {
          "output_type": "stream",
          "name": "stdout",
          "text": [
            "Hit:1 http://ppa.launchpad.net/c2d4u.team/c2d4u4.0+/ubuntu bionic InRelease\n",
            "Hit:2 http://archive.ubuntu.com/ubuntu bionic InRelease\n",
            "Hit:3 http://ppa.launchpad.net/cran/libgit2/ubuntu bionic InRelease\n",
            "Get:4 http://archive.ubuntu.com/ubuntu bionic-updates InRelease [88.7 kB]\n",
            "Get:5 https://cloud.r-project.org/bin/linux/ubuntu bionic-cran40/ InRelease [3,626 B]\n",
            "Hit:6 http://ppa.launchpad.net/deadsnakes/ppa/ubuntu bionic InRelease\n",
            "Get:7 http://archive.ubuntu.com/ubuntu bionic-backports InRelease [74.6 kB]\n",
            "Hit:8 http://ppa.launchpad.net/graphics-drivers/ppa/ubuntu bionic InRelease\n",
            "Get:9 http://security.ubuntu.com/ubuntu bionic-security InRelease [88.7 kB]\n",
            "Ign:10 https://developer.download.nvidia.com/compute/cuda/repos/ubuntu1804/x86_64  InRelease\n",
            "Ign:11 https://developer.download.nvidia.com/compute/machine-learning/repos/ubuntu1804/x86_64  InRelease\n",
            "Hit:12 https://developer.download.nvidia.com/compute/cuda/repos/ubuntu1804/x86_64  Release\n",
            "Hit:13 https://developer.download.nvidia.com/compute/machine-learning/repos/ubuntu1804/x86_64  Release\n",
            "Get:14 http://archive.ubuntu.com/ubuntu bionic-updates/main amd64 Packages [3,067 kB]\n",
            "Get:15 http://archive.ubuntu.com/ubuntu bionic-updates/universe amd64 Packages [2,256 kB]\n",
            "Get:18 http://security.ubuntu.com/ubuntu bionic-security/universe amd64 Packages [1,479 kB]\n",
            "Get:19 http://security.ubuntu.com/ubuntu bionic-security/main amd64 Packages [2,628 kB]\n",
            "Fetched 9,686 kB in 3s (3,576 kB/s)\n",
            "Reading package lists...\n"
          ]
        }
      ]
    },
    {
      "cell_type": "code",
      "metadata": {
        "id": "4dY12q0raXtc"
      },
      "source": [
        "import os\n",
        "os.environ['JAVA_HOME'] = '/usr/lib/jvm/java-8-openjdk-amd64'\n",
        "\n",
        "from pyspark.sql import SparkSession\n",
        "\n",
        "spark = SparkSession.builder.master(\"local[*]\").getOrCreate()"
      ],
      "execution_count": 2,
      "outputs": []
    },
    {
      "cell_type": "markdown",
      "metadata": {
        "id": "pZZMC5QPae-Z"
      },
      "source": [
        "# Teste\n",
        "\n",
        "O teste a ser realizado é composto de 3 partes:\n",
        "\n",
        "- um exercício de programação em Python\n",
        "- alguns exercícios de programação em SQL\n",
        "- alguns exercícios de programação com PySpark\n",
        "\n",
        "Você pode escolher qual das partes do exercício vai fazer primeiro. Todo o exercício deve ser completado no período de 90 minutos."
      ]
    },
    {
      "cell_type": "markdown",
      "metadata": {
        "id": "YUB8S5fKciHv"
      },
      "source": [
        "# Python"
      ]
    },
    {
      "cell_type": "code",
      "metadata": {
        "id": "2F8f5Z1scgUP"
      },
      "source": [
        "# SETUP\n",
        "nomes_alunos = [\n",
        "    ('Maria', 1),\n",
        "    ('João', 2),\n",
        "    ('Pedro', 3),\n",
        "    ('Gabriella', 4),\n",
        "    ('Giovana', 5),\n",
        "    ('Arthur', 6)\n",
        "]\n",
        "\n",
        "notas_alunos = {\n",
        "    1: 9.5,\n",
        "    2: 5.1,\n",
        "    3: 8.7,\n",
        "    4: 7.1,\n",
        "    5: 4.8,\n",
        "    6: 6.3\n",
        "}"
      ],
      "execution_count": 3,
      "outputs": []
    },
    {
      "cell_type": "markdown",
      "metadata": {
        "id": "ApIQ4JqjcsnC"
      },
      "source": [
        "Implemente uma função que recebe uma lista de nomes de alunos, um dicionário de notas dos mesmo, sendo que essas estruturas se relacionam por um ID.\n",
        "\n",
        "A função deve retornar em ordem alfabética, o nome dos alunos que obtiveram notas maior ou igual de uma nota de corte informada.\n",
        "\n",
        "**[DICA]**: Para realizar a atividade, pense em iterar por cada elemento tanto do dicionário quanto da lista de tuplas e fazer as comparações dentro das iterações."
      ]
    },
    {
      "cell_type": "code",
      "metadata": {
        "id": "ISnDoCWucpHC",
        "colab": {
          "base_uri": "https://localhost:8080/"
        },
        "outputId": "55172962-93a7-4b7b-a914-73950ffc319e"
      },
      "source": [
        "def filtra_alunos_acima_corte(alunos, notas, nota_corte):\n",
        "    # Desenvolva aqui\n",
        "\n",
        "    ax_notas = {}\n",
        "    for i in notas:\n",
        "      if (notas[i] >= nota_corte): \n",
        "        ax_notas[i] = notas[i]\n",
        "\n",
        "    ax_alunos = []\n",
        "    for i in alunos:\n",
        "      if (i[1] in ax_notas.keys()):\n",
        "        ax_alunos.append((i[0], ax_notas[i[1]]))\n",
        "\n",
        "    return sorted(ax_alunos, key=lambda name: name[0], reverse=False)\n",
        "    \n",
        "filtra_alunos_acima_corte(nomes_alunos, notas_alunos, 6)"
      ],
      "execution_count": 292,
      "outputs": [
        {
          "output_type": "execute_result",
          "data": {
            "text/plain": [
              "[('Arthur', 6.3), ('Gabriella', 7.1), ('Maria', 9.5), ('Pedro', 8.7)]"
            ]
          },
          "metadata": {},
          "execution_count": 292
        }
      ]
    },
    {
      "cell_type": "markdown",
      "metadata": {
        "id": "4iYs_aWqdXrh"
      },
      "source": [
        "# SQL"
      ]
    },
    {
      "cell_type": "markdown",
      "metadata": {
        "id": "mbIq-A9-gXdw"
      },
      "source": [
        "**Setup**\n"
      ]
    },
    {
      "cell_type": "code",
      "metadata": {
        "id": "DOG9FO83dlSe",
        "colab": {
          "base_uri": "https://localhost:8080/"
        },
        "outputId": "c5afb1a0-80d4-4f1c-d560-669cd2bc78a3"
      },
      "source": [
        "%%bash\n",
        "mkdir bases_teste\n",
        "curl https://raw.githubusercontent.com/A3Data/bases_testes/main/bases_teste/produtos.csv -o bases_teste/produtos.csv\n",
        "curl https://raw.githubusercontent.com/A3Data/bases_testes/main/bases_teste/vendas.csv -o bases_teste/vendas.csv\n",
        "curl https://raw.githubusercontent.com/A3Data/bases_testes/main/bases_teste/usuarios.csv -o bases_teste/usuarios.csv"
      ],
      "execution_count": 24,
      "outputs": [
        {
          "output_type": "stream",
          "name": "stderr",
          "text": [
            "  % Total    % Received % Xferd  Average Speed   Time    Time     Time  Current\n",
            "                                 Dload  Upload   Total   Spent    Left  Speed\n",
            "\r  0     0    0     0    0     0      0      0 --:--:-- --:--:-- --:--:--     0\r  0     0    0     0    0     0      0      0 --:--:-- --:--:-- --:--:--     0\r100  1039  100  1039    0     0   2201      0 --:--:-- --:--:-- --:--:--  2196\n",
            "  % Total    % Received % Xferd  Average Speed   Time    Time     Time  Current\n",
            "                                 Dload  Upload   Total   Spent    Left  Speed\n",
            "\r  0     0    0     0    0     0      0      0 --:--:-- --:--:-- --:--:--     0\r100  533k  100  533k    0     0  1565k      0 --:--:-- --:--:-- --:--:-- 1565k\n",
            "  % Total    % Received % Xferd  Average Speed   Time    Time     Time  Current\n",
            "                                 Dload  Upload   Total   Spent    Left  Speed\n",
            "\r  0     0    0     0    0     0      0      0 --:--:-- --:--:-- --:--:--     0\r  7  211k    7 15531    0     0  20543      0  0:00:10 --:--:--  0:00:10 20516\r100  211k  100  211k    0     0   275k      0 --:--:-- --:--:-- --:--:--  275k\n"
          ]
        }
      ]
    },
    {
      "cell_type": "code",
      "metadata": {
        "id": "kHkTwPZmfV2t"
      },
      "source": [
        "# Setup Spark Session\n",
        "from pyspark.sql import SparkSession\n",
        "spark = SparkSession.builder.appName(\"AtividadeSQL\").getOrCreate()"
      ],
      "execution_count": 25,
      "outputs": []
    },
    {
      "cell_type": "code",
      "metadata": {
        "id": "3kb1a6CwgSVd"
      },
      "source": [
        "def cria_tabela(path, nome_tabela):\n",
        "    df = spark.read.csv(path, inferSchema=True, header=True)\n",
        "    df.createOrReplaceTempView(nome_tabela)\n",
        "    return df\n",
        "\n",
        "usuarios = cria_tabela(\"bases_teste/usuarios.csv\", \"usuarios\")\n",
        "produtos = cria_tabela(\"bases_teste/produtos.csv\", \"produtos\")\n",
        "vendas = cria_tabela(\"bases_teste/vendas.csv\", \"vendas\")"
      ],
      "execution_count": 26,
      "outputs": []
    },
    {
      "cell_type": "markdown",
      "metadata": {
        "id": "6N5gLPYEg27q"
      },
      "source": [
        "**Função para execução de queries**"
      ]
    },
    {
      "cell_type": "code",
      "metadata": {
        "id": "HtpEu2utg5Pb"
      },
      "source": [
        "def q(query, n=30):\n",
        "    return spark.sql(query).show(n=n, truncate=False)"
      ],
      "execution_count": 27,
      "outputs": []
    },
    {
      "cell_type": "markdown",
      "metadata": {
        "id": "s84UzyTqg9lH"
      },
      "source": [
        "Para executar alguma consulta, basta colocar seu código sql dentro da função q como no exemplo abaixo:\n",
        "\n",
        "```python\n",
        "q(\"\"\"\n",
        "    SELECT *\n",
        "    FROM usuarios\n",
        "\"\"\")\n",
        "```\n",
        "\n",
        "e o resultado será exibido na tela.\n",
        "\n",
        "---\n",
        "\n",
        "Nesta parte da atividade, você vai trabalhar com três tabelas:\n",
        "\n",
        "- produtos\n",
        "- usuarios\n",
        "- vendas\n",
        "\n",
        "Use-as para responder às perguntas a seguir."
      ]
    },
    {
      "cell_type": "markdown",
      "metadata": {
        "id": "Kxzvs2rVoxGk"
      },
      "source": [
        "1) Qual foi a quantidade de vendas nos estados de Minas Gerais e São Paulo para cada ano e mês?"
      ]
    },
    {
      "cell_type": "code",
      "metadata": {
        "id": "eLe62-JehCDO",
        "colab": {
          "base_uri": "https://localhost:8080/"
        },
        "outputId": "af631379-ab31-4f8e-83c6-788ae3348d72"
      },
      "source": [
        "q(\n",
        "    \"\"\"\n",
        "      SELECT COUNT(v.cod_usuario) AS count_vendas_sp_mg\n",
        "      FROM usuarios as u\n",
        "      INNER JOIN vendas as v\n",
        "      ON u.cod_usuario = v.cod_usuario\n",
        "      WHERE estado in (\"Minas Gerais\", \"São Paulo\")\n",
        "    \"\"\"\n",
        ")"
      ],
      "execution_count": 40,
      "outputs": [
        {
          "output_type": "stream",
          "name": "stdout",
          "text": [
            "+------------------+\n",
            "|count_vendas_sp_mg|\n",
            "+------------------+\n",
            "|108               |\n",
            "+------------------+\n",
            "\n"
          ]
        }
      ]
    },
    {
      "cell_type": "markdown",
      "metadata": {
        "id": "xzD4NiqHplgI"
      },
      "source": [
        "2) Quais são os usuários por Estado que mais compraram em todo o período analisado e qual foi o número de compras realizadas, a quantidade total de itens comprados e valor total pago por usuário?\n",
        "\n",
        "**[DICA]**: perceba que a primeira parte da pergunta exige uma contagem do grão *usuário* e a segunda exige uma contagem do grão *vendas*."
      ]
    },
    {
      "cell_type": "code",
      "metadata": {
        "id": "bVV3Gnthp5hT",
        "colab": {
          "base_uri": "https://localhost:8080/"
        },
        "outputId": "6d82b9c5-23c9-424b-aa5a-934cc25f1b5d"
      },
      "source": [
        "q(\n",
        "    \"\"\"\n",
        "        SELECT cod_usuario, count, estado, valor_total FROM (\n",
        "          SELECT v.cod_usuario, COUNT(v.cod_usuario) AS count, estado, sum(valor) as valor_total, ROW_NUMBER() OVER(PARTITION by estado ORDER BY COUNT(v.cod_usuario) DESC) AS row\n",
        "          FROM usuarios as u\n",
        "          INNER JOIN vendas as v\n",
        "          ON u.cod_usuario = v.cod_usuario\n",
        "          GROUP BY v.cod_usuario, estado\n",
        "        ) WHERE row = 1\n",
        "    \"\"\"\n",
        ")"
      ],
      "execution_count": 95,
      "outputs": [
        {
          "output_type": "stream",
          "name": "stdout",
          "text": [
            "+-----------+-----+-------------------+------------------+\n",
            "|cod_usuario|count|estado             |valor_total       |\n",
            "+-----------+-----+-------------------+------------------+\n",
            "|2186       |7    |Amapá              |51359.34          |\n",
            "|2981       |9    |Bahia              |126282.4          |\n",
            "|1787       |8    |Ceará              |121494.67         |\n",
            "|700        |9    |Goiás              |142389.09         |\n",
            "|2811       |13   |Maranhão           |184101.88999999998|\n",
            "|2340       |9    |Mato Grosso        |165197.3          |\n",
            "|679        |6    |Mato Grosso do Sul |152271.96         |\n",
            "|3090       |9    |Minas Gerais       |95697.3           |\n",
            "|2843       |10   |Paraná             |137228.01         |\n",
            "|464        |6    |Paraíba            |73556.09999999999 |\n",
            "|2646       |7    |Pernambuco         |135556.7          |\n",
            "|2441       |5    |Piauí              |40866.189999999995|\n",
            "|3403       |10   |Rio Grande do Norte|136347.00999999998|\n",
            "|28         |9    |Rio Grande do Sul  |29114.449999999997|\n",
            "|2551       |9    |Santa Catarina     |187513.66         |\n",
            "|1756       |8    |São Paulo          |134413.0          |\n",
            "|1752       |8    |Tocantins          |97028.45          |\n",
            "+-----------+-----+-------------------+------------------+\n",
            "\n"
          ]
        }
      ]
    },
    {
      "cell_type": "markdown",
      "metadata": {
        "id": "Rx53Cl5Xp6TV"
      },
      "source": [
        "3) Quais são os usuários que não fizeram nenhuma compra?"
      ]
    },
    {
      "cell_type": "code",
      "metadata": {
        "id": "POtsi6dPq9-K",
        "colab": {
          "base_uri": "https://localhost:8080/"
        },
        "outputId": "46c2edc0-2b9e-49dc-8d28-09065acfb803"
      },
      "source": [
        "q(\n",
        "    \"\"\"\n",
        "        SELECT U.cod_usuario\n",
        "        FROM usuarios as u\n",
        "        LEFT JOIN vendas as v\n",
        "        ON u.cod_usuario = v.cod_usuario\n",
        "        WHERE v.cod_usuario is NULL\n",
        "    \"\"\"\n",
        ")"
      ],
      "execution_count": 141,
      "outputs": [
        {
          "output_type": "stream",
          "name": "stdout",
          "text": [
            "+-----------+\n",
            "|cod_usuario|\n",
            "+-----------+\n",
            "|5098       |\n",
            "|5229       |\n",
            "|5482       |\n",
            "|5504       |\n",
            "|5614       |\n",
            "|5923       |\n",
            "|6985       |\n",
            "|7901       |\n",
            "|9980       |\n",
            "|10080      |\n",
            "|10152      |\n",
            "|10170      |\n",
            "|10929      |\n",
            "|11002      |\n",
            "|11546      |\n",
            "|12298      |\n",
            "|12354      |\n",
            "|13117      |\n",
            "|13476      |\n",
            "|14486      |\n",
            "|15198      |\n",
            "|15313      |\n",
            "|15784      |\n",
            "|16570      |\n",
            "|17530      |\n",
            "|17779      |\n",
            "|18028      |\n",
            "|18034      |\n",
            "|18166      |\n",
            "|18366      |\n",
            "+-----------+\n",
            "only showing top 30 rows\n",
            "\n"
          ]
        }
      ]
    },
    {
      "cell_type": "markdown",
      "metadata": {
        "id": "JMfPmlvJq-vq"
      },
      "source": [
        "4) Qual é o ticket médio (média de valor gasto) e o número total de usuários que fizeram pelo menos uma compra *por faixa etária*?"
      ]
    },
    {
      "cell_type": "code",
      "metadata": {
        "id": "2wmU9pLbrMg3",
        "colab": {
          "base_uri": "https://localhost:8080/"
        },
        "outputId": "d4683004-3140-4797-d10b-d3318455de9c"
      },
      "source": [
        "q(\n",
        "    \"\"\"\n",
        "        SELECT faixa_etaria, MEAN(valor) AS media, COUNT(v.cod_usuario) AS quantidade\n",
        "        FROM usuarios as u\n",
        "        LEFT JOIN vendas as v\n",
        "        ON u.cod_usuario = v.cod_usuario\n",
        "        GROUP BY faixa_etaria\n",
        "    \"\"\"\n",
        ")"
      ],
      "execution_count": 159,
      "outputs": [
        {
          "output_type": "stream",
          "name": "stdout",
          "text": [
            "+------------------+------------------+----------+\n",
            "|faixa_etaria      |media             |quantidade|\n",
            "+------------------+------------------+----------+\n",
            "|Entre 22 a 27 anos|12203.022968749996|64        |\n",
            "|Entre 10 a 15 anos|8890.125348837211 |43        |\n",
            "|Entre 16 a 21 anos|12725.947000000002|50        |\n",
            "|Entre 50 a 61 anos|10849.47575       |80        |\n",
            "|null              |null              |0         |\n",
            "|Entre 37 a 49 anos|16727.190714285716|42        |\n",
            "|Entre 62 a 70 anos|10012.626410256411|39        |\n",
            "|Entre 28 a 36 anos|8233.037142857142 |56        |\n",
            "|Mais de 70 anos   |11303.103793103446|29        |\n",
            "+------------------+------------------+----------+\n",
            "\n"
          ]
        }
      ]
    },
    {
      "cell_type": "code",
      "metadata": {
        "id": "3zzx4TnTJ0ck"
      },
      "source": [
        "spark.stop()"
      ],
      "execution_count": 160,
      "outputs": []
    },
    {
      "cell_type": "markdown",
      "metadata": {
        "id": "YsxnKyHTr9ZQ"
      },
      "source": [
        "# PySpark"
      ]
    },
    {
      "cell_type": "markdown",
      "metadata": {
        "id": "IHTFrsFRKENk"
      },
      "source": [
        "**setup**:"
      ]
    },
    {
      "cell_type": "code",
      "metadata": {
        "id": "ExrbmwGPJ74k",
        "colab": {
          "base_uri": "https://localhost:8080/"
        },
        "outputId": "6f1a697b-a61d-4675-f029-a80d15371e5f"
      },
      "source": [
        "%%bash\n",
        "mkdir bases_teste\n",
        "curl https://raw.githubusercontent.com/A3Data/bases_testes/main/bases_teste/produtos.csv -o bases_teste/produtos.csv\n",
        "curl https://raw.githubusercontent.com/A3Data/bases_testes/main/bases_teste/vendas.csv -o bases_teste/vendas.csv\n",
        "curl https://raw.githubusercontent.com/A3Data/bases_testes/main/bases_teste/usuarios.csv -o bases_teste/usuarios.csv"
      ],
      "execution_count": 161,
      "outputs": [
        {
          "output_type": "stream",
          "name": "stderr",
          "text": [
            "mkdir: cannot create directory ‘bases_teste’: File exists\n",
            "  % Total    % Received % Xferd  Average Speed   Time    Time     Time  Current\n",
            "                                 Dload  Upload   Total   Spent    Left  Speed\n",
            "\r  0     0    0     0    0     0      0      0 --:--:-- --:--:-- --:--:--     0\r100  1039  100  1039    0     0   5870      0 --:--:-- --:--:-- --:--:--  5837\r100  1039  100  1039    0     0   5837      0 --:--:-- --:--:-- --:--:--  5837\n",
            "  % Total    % Received % Xferd  Average Speed   Time    Time     Time  Current\n",
            "                                 Dload  Upload   Total   Spent    Left  Speed\n",
            "\r  0     0    0     0    0     0      0      0 --:--:-- --:--:-- --:--:--     0\r100  533k  100  533k    0     0  2840k      0 --:--:-- --:--:-- --:--:-- 2855k\n",
            "  % Total    % Received % Xferd  Average Speed   Time    Time     Time  Current\n",
            "                                 Dload  Upload   Total   Spent    Left  Speed\n",
            "\r  0     0    0     0    0     0      0      0 --:--:-- --:--:-- --:--:--     0\r100  211k  100  211k    0     0  1050k      0 --:--:-- --:--:-- --:--:-- 1050k\n"
          ]
        }
      ]
    },
    {
      "cell_type": "code",
      "metadata": {
        "id": "1iMZB37mJ74k"
      },
      "source": [
        "# Setup Spark Session\n",
        "from pyspark.sql import SparkSession\n",
        "spark = SparkSession.builder.appName(\"AtividadeSQL\").getOrCreate()"
      ],
      "execution_count": 162,
      "outputs": []
    },
    {
      "cell_type": "code",
      "source": [
        "import pyspark.sql.functions as F"
      ],
      "metadata": {
        "id": "KSvhWMbhyN19"
      },
      "execution_count": 174,
      "outputs": []
    },
    {
      "cell_type": "code",
      "metadata": {
        "id": "5wjdDd3tJ74l"
      },
      "source": [
        "def cria_tabela(path, nome_tabela):\n",
        "    df = spark.read.csv(path, inferSchema=True, header=True)\n",
        "    df.createOrReplaceTempView(nome_tabela)\n",
        "    return df\n",
        "\n",
        "usuarios = cria_tabela(\"bases_teste/usuarios.csv\", \"usuarios\")\n",
        "produtos = cria_tabela(\"bases_teste/produtos.csv\", \"produtos\")\n",
        "vendas = cria_tabela(\"bases_teste/vendas.csv\", \"vendas\")"
      ],
      "execution_count": 163,
      "outputs": []
    },
    {
      "cell_type": "markdown",
      "metadata": {
        "id": "DHCtQfrvKpWz"
      },
      "source": [
        "Responda às perguntas a seguir utilizando **Spark DATAFRAMES**.\n",
        "\n",
        "1) Qual foi o total de compras realizadas, o total de itens comprados e a receita total obtida em todo o período analisado?"
      ]
    },
    {
      "cell_type": "code",
      "metadata": {
        "id": "0CcQqjM3r-mq",
        "colab": {
          "base_uri": "https://localhost:8080/"
        },
        "outputId": "360700af-ea0f-48a7-b1fa-a2cea72c6502"
      },
      "source": [
        "\n",
        "vendas.select(['valor', 'quantidade']).agg(\n",
        "    F.count(F.col('quantidade')).alias(\"count_compras\"),\n",
        "    F.sum(F.col('quantidade')).alias(\"total_itens\"),\n",
        "    F.sum(F.col('valor')).alias(\"total_receita\")\n",
        ").show()"
      ],
      "execution_count": 205,
      "outputs": [
        {
          "output_type": "stream",
          "name": "stdout",
          "text": [
            "+-------------+-----------+--------------------+\n",
            "|count_compras|total_itens|       total_receita|\n",
            "+-------------+-----------+--------------------+\n",
            "|        20000|     209149|2.1584900165999958E8|\n",
            "+-------------+-----------+--------------------+\n",
            "\n"
          ]
        }
      ]
    },
    {
      "cell_type": "markdown",
      "metadata": {
        "id": "uVV0rIT8KzZ2"
      },
      "source": [
        "2) Quais são os 3 produtos mais comprados dos estados da região Sul e Sudeste, a quantidade de itens comprados, o valor total pago e a média de preço paga?"
      ]
    },
    {
      "cell_type": "code",
      "source": [
        "estados = [\"Santa Catarina\", \"Rio Grande do Sul\", \"Minas Gerais\", \"São Paulo\", \"Rio de Janeiro\", \"Espirito Santo\", \"Paraná\"]\n",
        "\n",
        "usuarios = usuarios.alias(\"u\")\n",
        "\n",
        "df_produto = usuarios.join(vendas, usuarios.cod_usuario == vendas.cod_usuario) \\\n",
        "        .join(produtos, produtos.cod_produto == vendas.cod_produto) \\\n",
        "        .select([\"nome_produto\", \"estado\", \"quantidade\", 'valor', 'u.cod_usuario'])\n",
        "\n",
        "df_produto[df_produto.estado.isin(estados)].groupby(\"nome_produto\").agg(\n",
        "    F.sum(\"valor\").alias(\"total\"), \\\n",
        "    F.mean(\"valor\").alias(\"media_preco\"), \\\n",
        "    F.sum(\"quantidade\").alias(\"quantidade_vendida\")\n",
        ").show()"
      ],
      "metadata": {
        "colab": {
          "base_uri": "https://localhost:8080/"
        },
        "id": "uHycTbJH1tNP",
        "outputId": "597f6c67-9c86-4466-c41f-1d77d828a60e"
      },
      "execution_count": 248,
      "outputs": [
        {
          "output_type": "stream",
          "name": "stdout",
          "text": [
            "+--------------------+------------------+------------------+------------------+\n",
            "|        nome_produto|             total|       media_preco|quantidade_vendida|\n",
            "+--------------------+------------------+------------------+------------------+\n",
            "|Bicicleta Caloi A...|          95550.38|15925.063333333334|                71|\n",
            "| Cafeteira Nespresso|          13832.91|          1383.291|                63|\n",
            "|Notebook Asus Int...| 615180.6000000001|43941.471428571436|               134|\n",
            "|Aparelho de Barbe...|           10002.3|         1250.2875|                77|\n",
            "|     SPA Intel 700 L| 719892.0000000001|  55376.3076923077|               120|\n",
            "|Jogo Mortal Komba...|            4441.1|            444.11|                89|\n",
            "|Umidificador de A...|            7130.0|            891.25|                92|\n",
            "|       Blusa Lacoste|          17095.77|         1424.6475|               123|\n",
            "|Alcool em Gel 70%...|1397.2000000000007|53.738461538461564|               280|\n",
            "|Monitor LG 19 pol...| 56073.59999999999|4005.2571428571423|                96|\n",
            "|   Escrivaninha em L|           61617.0|4739.7692307692305|               141|\n",
            "|Lenço umedecido T...|             521.4| 74.48571428571428|                66|\n",
            "|Kit 3 barras de c...|1098.8999999999999| 99.89999999999999|               111|\n",
            "|Ar-condicionado 9...| 67625.48000000001| 22541.82666666667|                52|\n",
            "|      Mochila Targus|            5536.6| 615.1777777777778|                94|\n",
            "|Cadeira Gamer Xpress| 81188.40000000001|7380.7636363636375|               116|\n",
            "|Biscoito Chocolic...|             270.0|             33.75|                54|\n",
            "|SmartTV Samsung 4...|          132494.7|          22082.45|                53|\n",
            "|  Smartphone Samsung|          100425.5|         25106.375|                49|\n",
            "|      Sofa 3 lugares|101688.70000000001| 8474.058333333334|               113|\n",
            "+--------------------+------------------+------------------+------------------+\n",
            "only showing top 20 rows\n",
            "\n"
          ]
        }
      ]
    },
    {
      "cell_type": "markdown",
      "metadata": {
        "id": "0CaldadHLbgm"
      },
      "source": [
        "3) Para cada produto, quantos usuários fizeram pelo menos uma compra desse produto e qual é o valor mínimo e máximo pago por eles?"
      ]
    },
    {
      "cell_type": "code",
      "metadata": {
        "id": "qgwOymWOLqAB",
        "colab": {
          "base_uri": "https://localhost:8080/"
        },
        "outputId": "7bdf24c6-d520-4905-8828-21a8399c338d"
      },
      "source": [
        "# df_produto.groupBy()\n",
        "df_produto.groupBy('nome_produto').agg(\n",
        "    F.count(F.col(\"cod_usuario\")), \\\n",
        "    F.max(F.col(\"valor\")), \\\n",
        "    F.min(F.col(\"valor\"))\n",
        ").show()"
      ],
      "execution_count": 256,
      "outputs": [
        {
          "output_type": "stream",
          "name": "stdout",
          "text": [
            "+--------------------+------------------+----------+----------+\n",
            "|        nome_produto|count(cod_usuario)|max(valor)|min(valor)|\n",
            "+--------------------+------------------+----------+----------+\n",
            "|Bicicleta Caloi A...|                15|   26915.6|   2691.56|\n",
            "| Cafeteira Nespresso|                21|   3732.69|    219.57|\n",
            "|Notebook Asus Int...|                29|   82636.2|    4590.9|\n",
            "|Aparelho de Barbe...|                13|    2598.0|     129.9|\n",
            "|     SPA Intel 700 L|                27|  119982.0|    5999.1|\n",
            "|Jogo Mortal Komba...|                18|     848.3|      49.9|\n",
            "|Umidificador de A...|                21|    1550.0|      77.5|\n",
            "|       Blusa Lacoste|                18|    2779.8|    138.99|\n",
            "|Alcool em Gel 70%...|                36|      99.8|      4.99|\n",
            "|Monitor LG 19 pol...|                28|   11097.9|     584.1|\n",
            "|   Escrivaninha em L|                27|    8740.0|     874.0|\n",
            "|Lenço umedecido T...|                13|     158.0|       7.9|\n",
            "|Kit 3 barras de c...|                16|     198.0|      29.7|\n",
            "|Ar-condicionado 9...|                13|  24709.31|   1300.49|\n",
            "|      Mochila Targus|                12|    1178.0|      58.9|\n",
            "|Cadeira Gamer Xpress|                19|   13298.1|    2099.7|\n",
            "|Biscoito Chocolic...|                18|     100.0|       5.0|\n",
            "|SmartTV Samsung 4...|                13|   42498.3|    2499.9|\n",
            "|  Smartphone Samsung|                12|   40990.0|    4099.0|\n",
            "|      Sofa 3 lugares|                21|   17098.1|     899.9|\n",
            "+--------------------+------------------+----------+----------+\n",
            "only showing top 20 rows\n",
            "\n"
          ]
        }
      ]
    },
    {
      "cell_type": "markdown",
      "metadata": {
        "id": "QUM8hfarLqy9"
      },
      "source": [
        "4) Construa uma tabela unificada com todas as colunas dos 3 datasets (sem colunas repetidas) e escreva essa tabela localmente em formato **parquet** particionando pelo estado."
      ]
    },
    {
      "cell_type": "code",
      "metadata": {
        "id": "YEYCoeHlMGHl"
      },
      "source": [
        "usuarios = usuarios.alias(\"u\")\n",
        "vendas = vendas.alias(\"v\")\n",
        "produtos = produtos.alias(\"p\")\n",
        "\n",
        "df = usuarios.join(vendas, ['cod_usuario']) \\\n",
        "      .join(produtos, ['cod_produto'])\n",
        "\n",
        "df.write.option(\"header\",True) \\\n",
        "        .partitionBy(\"estado\") \\\n",
        "        .mode(\"overwrite\") \\\n",
        "        .parquet(\"data/\")\n",
        "  "
      ],
      "execution_count": 278,
      "outputs": []
    },
    {
      "cell_type": "markdown",
      "metadata": {
        "id": "ndROlUqgMHxn"
      },
      "source": [
        "# FIM!"
      ]
    }
  ]
}